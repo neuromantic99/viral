{
 "cells": [
  {
   "cell_type": "code",
   "execution_count": 9,
   "metadata": {},
   "outputs": [],
   "source": [
    "%matplotlib qt\n",
    "\n",
    "\n",
    "import sys\n",
    "import numpy as np\n",
    "import matplotlib\n",
    "import matplotlib.pyplot as plt\n",
    "from rastermap import Rastermap\n",
    "from scipy.stats import zscore\n",
    "\n",
    "# spks is neurons by time\n",
    "# sys.path.insert(0, '/Users/josefbitzenhofer/Documents/code/viral/data/cached_for_rastermap')\n",
    "spks_noITI = np.load('/Users/josefbitzenhofer/Documents/code/viral/data/cached_for_rastermap/JB027_2025-02-24_corridor_neur_noITI.npz')[\"spks\"]\n",
    "spks = np.load('/Users/josefbitzenhofer/Documents/code/viral/data/cached_for_rastermap/JB027_2025-02-24_corridor_neur.npz')[\"spks\"]\n",
    "behaviour = np.load('/Users/josefbitzenhofer/Documents/code/viral/data/cached_for_rastermap/JB027_2025-02-24_corridor_behavior.npz')"
   ]
  },
  {
   "cell_type": "code",
   "execution_count": 10,
   "metadata": {},
   "outputs": [
    {
     "name": "stdout",
     "output_type": "stream",
     "text": [
      "2025-03-07 10:10:33,897 [INFO] normalizing data across axis=1\n",
      "2025-03-07 10:10:33,962 [INFO] projecting out mean along axis=0\n",
      "2025-03-07 10:10:34,010 [INFO] data normalized, 0.11sec\n",
      "2025-03-07 10:10:34,010 [INFO] sorting activity: 642 valid samples by 21268 timepoints\n",
      "2025-03-07 10:10:34,447 [INFO] n_PCs = 200 computed, 0.55sec\n",
      "2025-03-07 10:10:34,527 [INFO] 99 clusters computed, time 0.63sec\n"
     ]
    },
    {
     "name": "stderr",
     "output_type": "stream",
     "text": [
      "/Users/josefbitzenhofer/Documents/code/viral/.venv/lib/python3.12/site-packages/rastermap/cluster.py:138: UserWarning: found fewer than half the n_clusters that the user specified, rerunning with random initialization\n",
      "  warnings.warn(\n",
      "/Users/josefbitzenhofer/Documents/code/viral/.venv/lib/python3.12/site-packages/rastermap/cluster.py:148: UserWarning: found fewer clusters than user specified, try reducing n_clusters and/or reduce n_splits and/or increase n_PCs\n",
      "  warnings.warn(\n"
     ]
    },
    {
     "name": "stdout",
     "output_type": "stream",
     "text": [
      "2025-03-07 10:11:05,888 [INFO] clusters sorted, time 31.99sec\n",
      "2025-03-07 10:11:05,951 [INFO] clusters upsampled, time 32.05sec\n",
      "2025-03-07 10:11:06,093 [INFO] rastermap complete, time 32.20sec\n"
     ]
    }
   ],
   "source": [
    "# like Stringer et al. 2024 Fig 2\n",
    "\n",
    "# fit rastermap\n",
    "# n_PCs = 200\n",
    "# n_clusters = 100\n",
    "# locality = 0.75\n",
    "# time_lag_windows = 5\n",
    "# , time_bin=5\n",
    "model = Rastermap(n_PCs=200, n_clusters=100, \n",
    "                  locality=1, time_lag_window=5).fit(spks_noITI)\n",
    "# y = model.embedding # neurons x 1\n",
    "isort = model.isort\n",
    "cc_nodes = model.cc # sorted asymmetric similarity matrix\n",
    "\n",
    "X = spks[isort]\n"
   ]
  },
  {
   "cell_type": "code",
   "execution_count": 11,
   "metadata": {},
   "outputs": [],
   "source": [
    "# from Stringer et al. 2024\n",
    "def bin1d(X, bin_size, axis=0):\n",
    "    \"\"\" mean bin over axis of data with bin bin_size \"\"\"\n",
    "    if bin_size > 0:\n",
    "        size = list(X.shape)\n",
    "        Xb = X.swapaxes(0, axis)\n",
    "        size_new = Xb.shape\n",
    "        Xb = Xb[:size[axis]//bin_size*bin_size].reshape((size[axis]//bin_size, bin_size, *size_new[1:])).mean(axis=1)\n",
    "        Xb = Xb.swapaxes(axis, 0)\n",
    "        return Xb\n",
    "    else:\n",
    "        return X"
   ]
  },
  {
   "cell_type": "code",
   "execution_count": 12,
   "metadata": {},
   "outputs": [],
   "source": [
    "# from Stringer et al. 2024\n",
    "kp_colors = np.array([[0.55,0.55,0.55],\n",
    "                      [0.,0.,1],\n",
    "                      [0.8,0,0],\n",
    "                      [1.,0.4,0.2],\n",
    "                      [0,0.6,0.4],\n",
    "                      [0.2,1,0.5],\n",
    "                      ])"
   ]
  },
  {
   "cell_type": "code",
   "execution_count": 13,
   "metadata": {},
   "outputs": [],
   "source": [
    "# print(X.shape)\n",
    "# X_zscored = zscore(X)"
   ]
  },
  {
   "cell_type": "code",
   "execution_count": 14,
   "metadata": {},
   "outputs": [],
   "source": [
    "# TODO: bin over neurons\n",
    "\n",
    "bin_size = 2\n",
    "\n",
    "### ----------- bin across embedding --------------------------------------- ###\n",
    "        # if data is not None and compute_X_embedding:\n",
    "        #     bin_size=self.bin_size\n",
    "        #     if (bin_size==0 or n_samples < bin_size or \n",
    "        #         (bin_size == 50 and n_samples < 1000)):\n",
    "        #         bin_size = max(1, n_samples // 500)\n",
    "        #     self.X_embedding = zscore(bin1d(X[self.isort], bin_size, axis=0), axis=1)\n",
    "\n",
    "X_zs = zscore(bin1d(X, bin_size, axis=0), axis=1)\n",
    "# X_zs = zscore(X, axis=1)"
   ]
  },
  {
   "cell_type": "code",
   "execution_count": 15,
   "metadata": {},
   "outputs": [],
   "source": [
    "corridor_starts = behaviour[\"corridor_starts\"]\n",
    "corridor_widths = behaviour[\"corridor_widths\"]\n",
    "# corridor_imgs = behaviour[\"corridor_imgs\"]\n",
    "VRpos = behaviour[\"VRpos\"]\n",
    "reward_idx = behaviour[\"reward_inds\"]\n",
    "lick_idx = behaviour[\"lick_inds\"]\n",
    "run = behaviour[\"run\"]"
   ]
  },
  {
   "cell_type": "code",
   "execution_count": 16,
   "metadata": {},
   "outputs": [],
   "source": [
    "sampling_rate = 30 # fps"
   ]
  },
  {
   "cell_type": "code",
   "execution_count": null,
   "metadata": {},
   "outputs": [],
   "source": [
    "n_trials_plot = 20\n",
    "plot_start = int(corridor_starts[-n_trials_plot, 0])\n",
    "to_plot = X_zs[:, plot_start:]\n",
    "nTimepoints = to_plot.shape[1]\n",
    "xticks = np.arange(0, nTimepoints, sampling_rate * 60) # every minute\n",
    "xticks_labels = np.arange(0, len(xticks), 1)\n",
    "\n",
    "lick_idx_plot = lick_idx[lick_idx > plot_start] - plot_start\n",
    "reward_idx_plot = reward_idx[reward_idx > plot_start] - plot_start\n",
    "\n",
    "n_features = 4\n",
    "\n",
    "# Scaling of the rasterplot\n",
    "vmin = 0.75\n",
    "vmax = 2\n",
    "\n",
    "plt.rcParams[\"font.family\"] = \"Arial\"\n",
    "plt.rcParams[\"font.size\"] = 14\n",
    "\n",
    "\n",
    "fig, ax = plt.subplots(nrows=n_features, ncols=1, figsize=(24, 10), gridspec_kw={\"height_ratios\": [25, 1, 1, 4]}, sharex=True)\n",
    "\n",
    "# NEURONS RASTERPLOT\n",
    "ax1 = ax[0]\n",
    "ax1.imshow(to_plot, vmin=vmin, vmax=vmax, cmap=\"gray_r\", aspect=\"auto\")\n",
    "ax1.set_xticks(xticks)\n",
    "ax1.set_xticklabels(xticks_labels)\n",
    "ax1.set_xlabel(\"Time (minutes)\")\n",
    "ax1.set_ylabel(\"Neurons\")\n",
    "\n",
    "# TODO: y-axis is weird\n",
    "\n",
    "for (start, reward_condition), width in zip(corridor_starts[-n_trials_plot:, :], corridor_widths[-n_trials_plot:]):\n",
    "    ax1.fill_betweenx(\n",
    "        y=[0, to_plot.shape[0]],\n",
    "        x1=start - plot_start,\n",
    "        x2=start + width - plot_start,  \n",
    "        color=\"forestgreen\" if reward_condition == 1 else \"violet\",\n",
    "        alpha=0.3\n",
    "    )\n",
    "\n",
    "\n",
    "# REWARDS\n",
    "ax2 = ax[1]\n",
    "ax2.scatter(\n",
    "    reward_idx_plot,  # Align with the time window\n",
    "    np.ones(len(reward_idx_plot)), \n",
    "    color=\"g\",\n",
    "    marker=\"^\", \n",
    "    s=30\n",
    ")\n",
    "ax2.axis(\"off\")\n",
    "ax2.legend([\"Reward\"], loc=\"center left\", frameon=False, handletextpad=0.2)\n",
    "\n",
    "# LICKING\n",
    "ax3 = ax[2]\n",
    "ax3.scatter(\n",
    "    lick_idx_plot,  # Align with the time window\n",
    "    np.ones(len(lick_idx_plot)), \n",
    "    color=[1.0,0.3,0.3],\n",
    "    marker=\".\", \n",
    "    s=30\n",
    ")\n",
    "ax3.axis(\"off\")\n",
    "ax3.legend([\"Licks\"], loc=\"center left\", frameon=False, handletextpad=0.2)\n",
    "\n",
    "\n",
    "# RUNNING SPEED\n",
    "ax4 = ax[3]\n",
    "ax4.fill_between(np.arange(nTimepoints), run[plot_start:], color=kp_colors[0]) #alpha=0.5)\n",
    "ax4.axis(\"off\")\n",
    "ax4.legend([matplotlib.lines.Line2D([0], [0], color=\"none\")], [\"Running speed\"], loc=\"upper left\", frameon=False, handlelength=0, bbox_to_anchor=(0, 1.5))\n",
    "\n",
    "\n",
    "\n",
    "ax1.set_xlim([0, nTimepoints])\n",
    "ax2.set_xlim([0, nTimepoints])\n",
    "ax3.set_xlim([0, nTimepoints])\n",
    "ax4.set_xlim([0, nTimepoints])\n",
    "\n",
    "plt.show()"
   ]
  },
  {
   "cell_type": "code",
   "execution_count": 18,
   "metadata": {},
   "outputs": [
    {
     "name": "stdout",
     "output_type": "stream",
     "text": [
      "14413\n",
      "14413\n"
     ]
    }
   ],
   "source": [
    "print(len(to_plot[1]))\n",
    "print(len(run[plot_start:]))"
   ]
  },
  {
   "cell_type": "code",
   "execution_count": 19,
   "metadata": {},
   "outputs": [
    {
     "name": "stdout",
     "output_type": "stream",
     "text": [
      "Reward indices: [ 2419  2420  2421  2422  2423  2424  2425  2426  2427  3733  3734  3735\n",
      "  3736  3737  3738  3739  3740  3741  4985  4986  4987  4988  4989  4990\n",
      "  4991  4992  4993  7992  7993  7994  7995  7996  7997  7998  7999  8000\n",
      " 10777 10778 10779 10780 10781 10782 10783 10784 10785]\n",
      "Lick indices: [ 2414  2415  2416  2417  2418  2419  2420  2421  2422  2423  2424  2425\n",
      "  2426  2427  2428  2429  2430  2431  2432  2433  2434  2435  2436  2437\n",
      "  2438  2439  2440  2441  2442  2443  2444  2445  2446  2447  2448  2449\n",
      "  2450  2451  2452  2453  2454  2455  2456  2457  2458  2459  2460  2461\n",
      "  2462  2463  2464  2465  2466  2467  2468  2469  2470  2471  2472  2473\n",
      "  2474  2475  2476  2477  2478  2479  2480  2481  2482  2483  2484  2485\n",
      "  2486  2487  2488  2489  2490  2491  2492  2493  2494  2495  2496  2497\n",
      "  2498  2499  2500  2501  2502  2503  2504  2505  2506  2507  2508  2509\n",
      "  2510  2511  2512  2513  2514  2515  2516  2517  2518  2519  2520  2521\n",
      "  2522  2523  2524  2525  2526  2527  2528  2529  2530  2531  2532  2533\n",
      "  2534  2535  2536  2537  2538  2539  2540  2541  2542  2543  2544  2545\n",
      "  2546  2547  2548  2549  2550  2551  2552  2553  2554  2555  2556  2575\n",
      "  2576  2577  2578  2579  2580  2581  2582  2583  2584  3683  3684  3685\n",
      "  3686  3687  3688  3689  3690  3691  3692  3739  3740  3741  3742  3743\n",
      "  3744  3745  3746  3747  3748  3749  3750  3751  3752  3753  3754  3755\n",
      "  3756  3757  3758  3759  3760  3761  3762  3763  3764  3765  3766  3767\n",
      "  3768  3769  3770  3771  3772  3773  3774  3775  3776  3777  3778  3779\n",
      "  3780  3781  3782  3783  3784  3785  3786  3787  3788  3789  3790  3791\n",
      "  3792  3793  3794  3795  3796  3797  3798  3799  3800  3801  3802  3803\n",
      "  3804  3805  3806  3807  3808  3809  3810  3811  3812  3813  3814  3815\n",
      "  3816  3817  3818  3819  3820  3821  3822  3823  3824  3825  3826  3827\n",
      "  3828  3829  3830  3831  3832  3833  3834  3835  3836  3837  3838  3839\n",
      "  3840  3841  3842  3843  3844  3845  3846  3894  3895  3896  3897  3898\n",
      "  3899  3900  3901  3902  3903  3904  4992  4993  4994  4995  4996  4997\n",
      "  4998  4999  5000  5001  5002  5003  5004  5005  5006  5007  5008  5009\n",
      "  5010  5011  5012  5013  5014  5015  5016  5017  5018  5019  5020  5021\n",
      "  5022  5023  5024  5025  5026  5027  5028  5029  5030  5031  5032  5033\n",
      "  5034  5035  5036  5037  5038  5039  5040  5041  5042  5043  5044  5045\n",
      "  5046  5047  5048  5049  5050  5051  5052  5053  5054  5055  5056  5057\n",
      "  5058  5059  5060  5061  5062  5063  5064  5065  5066  5067  5068  5069\n",
      "  5070  5071  5072  5073  5074  5075  5076  5077  5078  5079  5080  5081\n",
      "  5082  5083  5084  5085  5086  5087  5088  5089  5090  5091  5092  5093\n",
      "  5094  5095  5096  5097  5098  5099  5100  5101  5102  5103  5104  5105\n",
      "  5106  5107  5108  5109  5110  5111  5112  5113  5114  5115  5116  5117\n",
      "  5118  5119  5120  5121  5122  5302  5303  5304  5305  5306  5307  5308\n",
      "  5309  5310  5311  5312  6192  6193  6194  6195  6196  6197  6198  6199\n",
      "  6200  6201  6202  6203  6204  6220  6221  6222  6223  6224  6225  6226\n",
      "  6227  6228  6229  6230  6231  6232  6233  6308  6309  6310  6311  6312\n",
      "  6313  6314  6315  6316  6317  6318  6319  6320  6321  6322  6323  6324\n",
      "  6325  6326  6327  6342  6343  6344  6345  6346  6347  6348  6349  6350\n",
      "  6351  6352  6353  6369  6370  6371  6372  6373  6374  6375  6376  6377\n",
      "  6378  6379  6380  6381  6441  6442  6443  6444  6445  6446  6447  6448\n",
      "  6449  6450  6526  6527  6528  6529  6530  6531  6532  6533  6534  6535\n",
      "  6536  7775  7776  7777  7778  7779  7780  7781  7782  7783  7784  7785\n",
      "  7786  7787  7788  7789  7790  7791  7792  7793  7794  7795  7796  7797\n",
      "  7798  7799  7800  7801  7802  7803  7804  7823  7824  7825  7826  7827\n",
      "  7828  7829  7830  7831  7832  7833  7882  7883  7884  7885  7886  7887\n",
      "  7888  7889  7890  7891  7892  7893  7894  7895  7896  7897  7898  7899\n",
      "  7900  7901  7902  7922  7923  7924  7925  7926  7927  7928  7929  7930\n",
      "  7931  7989  7990  7991  7992  7993  7994  7995  7996  7997  7998  7999\n",
      "  8000  8001  8002  8003  8004  8005  8006  8007  8008  8009  8010  8011\n",
      "  8012  8013  8014  8015  8016  8017  8018  8019  8020  8021  8022  8023\n",
      "  8024  8025  8026  8027  8028  8029  8030  8031  8032  8033  8034  8035\n",
      "  8036  8037  8038  8039  8040  8041  8042  8043  8044  8045  8046  8047\n",
      "  8048  8049  8050  8051  8052  8053  8054  8055  8056  8057  8058  8059\n",
      "  8060  8061  8062  8063  8064  8065  8066  8067  8068  8069  8070  8071\n",
      "  8072  8073  8074  8075  8076  8077  8078  8079  8080  8081  8082  8083\n",
      "  8084  8085  8086 10725 10726 10727 10728 10729 10730 10731 10732 10733\n",
      " 10734 10750 10751 10752 10753 10754 10755 10756 10757 10758 10759 10784\n",
      " 10785 10786 10787 10788 10789 10790 10791 10792 10793 10794 10795 10796\n",
      " 10797 10798 10799 10800 10801 10802 10803 10804 10805 10806 10807 10808\n",
      " 10809 10810 10811 10812 10813 10814 10815 10816 10817 10818 10819 10820\n",
      " 10821 10822 10823 10824 10825 10826 10827 10828 10829 10830 10831 10832\n",
      " 10833 10834 10835 10836 10837 10838 10839 10840 10841 10842 10843 10844\n",
      " 10845 10846 10847 10848 10849 10850 10851 10852 10853 10854 10855 10856\n",
      " 10857 10858 10859 10860 10861 10862 10863 10864 10865 10866 10867 10868\n",
      " 10869 10870 10871 10872 10873 10874 10875 10876 10877 10878 10879 10880\n",
      " 10881 10882 10883 10884 10885 10886 10887 10888 10889 10890 10891 10892\n",
      " 10893 10894 10895]\n"
     ]
    }
   ],
   "source": [
    "print(\"Reward indices:\", reward_idx_plot)\n",
    "print(\"Lick indices:\", lick_idx_plot)"
   ]
  },
  {
   "cell_type": "code",
   "execution_count": 20,
   "metadata": {},
   "outputs": [],
   "source": [
    "# TODO: Add corridor stuff\n",
    "# TODO: Add licks, rewards, running speed"
   ]
  }
 ],
 "metadata": {
  "kernelspec": {
   "display_name": ".venv",
   "language": "python",
   "name": "python3"
  },
  "language_info": {
   "codemirror_mode": {
    "name": "ipython",
    "version": 3
   },
   "file_extension": ".py",
   "mimetype": "text/x-python",
   "name": "python",
   "nbconvert_exporter": "python",
   "pygments_lexer": "ipython3",
   "version": "3.12.2"
  }
 },
 "nbformat": 4,
 "nbformat_minor": 2
}
