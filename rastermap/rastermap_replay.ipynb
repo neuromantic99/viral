{
 "cells": [
  {
   "cell_type": "code",
   "execution_count": 1,
   "metadata": {},
   "outputs": [],
   "source": [
    "%matplotlib qt\n",
    "\n",
    "\n",
    "import sys\n",
    "import numpy as np\n",
    "import matplotlib\n",
    "import matplotlib.pyplot as plt\n",
    "from rastermap import Rastermap\n",
    "from scipy.stats import zscore\n",
    "\n",
    "# spks is neurons by time\n",
    "# sys.path.insert(0, '/Users/josefbitzenhofer/Documents/code/viral/data/cached_for_rastermap')\n",
    "spks_noITI = np.load('/Users/josefbitzenhofer/Documents/code/viral/data/cached_for_rastermap/JB027_2025-02-24_corridor_neur_noITI.npz')[\"spks\"]\n",
    "spks = np.load('/Users/josefbitzenhofer/Documents/code/viral/data/cached_for_rastermap/JB027_2025-02-24_corridor_neur.npz')[\"spks\"]\n",
    "behaviour = np.load('/Users/josefbitzenhofer/Documents/code/viral/data/cached_for_rastermap/JB027_2025-02-24_corridor_behavior.npz')"
   ]
  },
  {
   "cell_type": "code",
   "execution_count": 2,
   "metadata": {},
   "outputs": [
    {
     "name": "stdout",
     "output_type": "stream",
     "text": [
      "2025-02-28 11:02:41,717 [INFO] normalizing data across axis=1\n",
      "2025-02-28 11:02:41,845 [INFO] binning in time with time_bin = 5\n",
      "2025-02-28 11:02:42,040 [INFO] projecting out mean along axis=0\n",
      "2025-02-28 11:02:42,081 [INFO] data normalized, 0.37sec\n",
      "2025-02-28 11:02:42,081 [INFO] sorting activity: 642 valid samples by 88379 timepoints\n",
      "2025-02-28 11:02:42,455 [INFO] n_PCs = 200 computed, 0.74sec\n",
      "2025-02-28 11:02:42,539 [INFO] 93 clusters computed, time 0.83sec\n"
     ]
    },
    {
     "name": "stderr",
     "output_type": "stream",
     "text": [
      "/Users/josefbitzenhofer/Documents/code/viral/.venv/lib/python3.12/site-packages/rastermap/cluster.py:138: UserWarning: found fewer than half the n_clusters that the user specified, rerunning with random initialization\n",
      "  warnings.warn(\n",
      "/Users/josefbitzenhofer/Documents/code/viral/.venv/lib/python3.12/site-packages/rastermap/cluster.py:148: UserWarning: found fewer clusters than user specified, try reducing n_clusters and/or reduce n_splits and/or increase n_PCs\n",
      "  warnings.warn(\n"
     ]
    },
    {
     "name": "stdout",
     "output_type": "stream",
     "text": [
      "2025-02-28 11:02:57,003 [INFO] clusters sorted, time 15.29sec\n",
      "2025-02-28 11:02:57,061 [INFO] clusters upsampled, time 15.35sec\n",
      "2025-02-28 11:02:57,189 [INFO] rastermap complete, time 15.48sec\n"
     ]
    }
   ],
   "source": [
    "# like Stringer et al. 2024 Fig 2\n",
    "\n",
    "# fit rastermap\n",
    "# n_PCs = 200\n",
    "# n_clusters = 100\n",
    "# locality = 0.75\n",
    "# time_lag_windows = 5\n",
    "model = Rastermap(n_PCs=200, n_clusters=100, \n",
    "                  locality=1, time_lag_window=5, time_bin=5).fit(spks_noITI)\n",
    "# y = model.embedding # neurons x 1\n",
    "isort = model.isort\n",
    "cc_nodes = model.cc # sorted asymmetric similarity matrix\n",
    "\n",
    "X = spks[isort]\n"
   ]
  },
  {
   "cell_type": "code",
   "execution_count": 3,
   "metadata": {},
   "outputs": [],
   "source": [
    "# from Stringer et al. 2024\n",
    "def bin1d(X, bin_size, axis=0):\n",
    "    \"\"\" mean bin over axis of data with bin bin_size \"\"\"\n",
    "    if bin_size > 0:\n",
    "        size = list(X.shape)\n",
    "        Xb = X.swapaxes(0, axis)\n",
    "        size_new = Xb.shape\n",
    "        Xb = Xb[:size[axis]//bin_size*bin_size].reshape((size[axis]//bin_size, bin_size, *size_new[1:])).mean(axis=1)\n",
    "        Xb = Xb.swapaxes(axis, 0)\n",
    "        return Xb\n",
    "    else:\n",
    "        return X"
   ]
  },
  {
   "cell_type": "code",
   "execution_count": 4,
   "metadata": {},
   "outputs": [],
   "source": [
    "# from Stringer et al. 2024\n",
    "kp_colors = np.array([[0.55,0.55,0.55],\n",
    "                      [0.,0.,1],\n",
    "                      [0.8,0,0],\n",
    "                      [1.,0.4,0.2],\n",
    "                      [0,0.6,0.4],\n",
    "                      [0.2,1,0.5],\n",
    "                      ])"
   ]
  },
  {
   "cell_type": "code",
   "execution_count": 5,
   "metadata": {},
   "outputs": [],
   "source": [
    "# print(X.shape)\n",
    "# X_zscored = zscore(X)"
   ]
  },
  {
   "cell_type": "code",
   "execution_count": 6,
   "metadata": {},
   "outputs": [],
   "source": [
    "# TODO: bin over neurons\n",
    "\n",
    "bin_size = 5\n",
    "\n",
    "### ----------- bin across embedding --------------------------------------- ###\n",
    "        # if data is not None and compute_X_embedding:\n",
    "        #     bin_size=self.bin_size\n",
    "        #     if (bin_size==0 or n_samples < bin_size or \n",
    "        #         (bin_size == 50 and n_samples < 1000)):\n",
    "        #         bin_size = max(1, n_samples // 500)\n",
    "        #     self.X_embedding = zscore(bin1d(X[self.isort], bin_size, axis=0), axis=1)\n",
    "\n",
    "X_zs = zscore(bin1d(X, bin_size, axis=0), axis=1)"
   ]
  },
  {
   "cell_type": "code",
   "execution_count": 7,
   "metadata": {},
   "outputs": [],
   "source": [
    "corridor_starts = behaviour[\"corridor_starts\"]\n",
    "corridor_widths = behaviour[\"corridor_widths\"]\n",
    "# corridor_imgs = behaviour[\"corridor_imgs\"]\n",
    "VRpos = behaviour[\"VRpos\"]\n",
    "reward_idx = behaviour[\"reward_inds\"]\n",
    "lick_idx = behaviour[\"lick_inds\"]\n",
    "run = behaviour[\"run\"]"
   ]
  },
  {
   "cell_type": "code",
   "execution_count": 8,
   "metadata": {},
   "outputs": [],
   "source": [
    "sampling_rate = 30 # fps"
   ]
  },
  {
   "cell_type": "code",
   "execution_count": 10,
   "metadata": {},
   "outputs": [
    {
     "name": "stderr",
     "output_type": "stream",
     "text": [
      "/var/folders/lm/qkbhqz3s6ld73s0twf2bb8_40000gn/T/ipykernel_96203/1489936088.py:25: UserWarning: Attempting to set identical low and high xlims makes transformation singular; automatically expanding.\n",
      "  ax1.imshow(to_plot, vmin=vmin, vmax=vmax, cmap=\"gray_r\", aspect=\"auto\")\n"
     ]
    },
    {
     "ename": "ValueError",
     "evalue": "operands could not be broadcast together with shapes (0,) (58433,) ",
     "output_type": "error",
     "traceback": [
      "\u001b[0;31m---------------------------------------------------------------------------\u001b[0m",
      "\u001b[0;31mValueError\u001b[0m                                Traceback (most recent call last)",
      "Cell \u001b[0;32mIn[10], line 70\u001b[0m\n\u001b[1;32m     68\u001b[0m \u001b[38;5;66;03m# RUNNING SPEED\u001b[39;00m\n\u001b[1;32m     69\u001b[0m ax4 \u001b[38;5;241m=\u001b[39m ax[\u001b[38;5;241m3\u001b[39m]\n\u001b[0;32m---> 70\u001b[0m \u001b[43max4\u001b[49m\u001b[38;5;241;43m.\u001b[39;49m\u001b[43mfill_between\u001b[49m\u001b[43m(\u001b[49m\u001b[43mnp\u001b[49m\u001b[38;5;241;43m.\u001b[39;49m\u001b[43marange\u001b[49m\u001b[43m(\u001b[49m\u001b[43mnTimepoints\u001b[49m\u001b[43m)\u001b[49m\u001b[43m,\u001b[49m\u001b[43m \u001b[49m\u001b[43mrun\u001b[49m\u001b[43m[\u001b[49m\u001b[43mplot_start\u001b[49m\u001b[43m:\u001b[49m\u001b[43m]\u001b[49m\u001b[43m,\u001b[49m\u001b[43m \u001b[49m\u001b[43mcolor\u001b[49m\u001b[38;5;241;43m=\u001b[39;49m\u001b[43mkp_colors\u001b[49m\u001b[43m[\u001b[49m\u001b[38;5;241;43m0\u001b[39;49m\u001b[43m]\u001b[49m\u001b[43m)\u001b[49m \u001b[38;5;66;03m#alpha=0.5)\u001b[39;00m\n\u001b[1;32m     71\u001b[0m ax4\u001b[38;5;241m.\u001b[39maxis(\u001b[38;5;124m\"\u001b[39m\u001b[38;5;124moff\u001b[39m\u001b[38;5;124m\"\u001b[39m)\n\u001b[1;32m     72\u001b[0m ax4\u001b[38;5;241m.\u001b[39mlegend([matplotlib\u001b[38;5;241m.\u001b[39mlines\u001b[38;5;241m.\u001b[39mLine2D([\u001b[38;5;241m0\u001b[39m], [\u001b[38;5;241m0\u001b[39m], color\u001b[38;5;241m=\u001b[39m\u001b[38;5;124m\"\u001b[39m\u001b[38;5;124mnone\u001b[39m\u001b[38;5;124m\"\u001b[39m)], [\u001b[38;5;124m\"\u001b[39m\u001b[38;5;124mRunning speed\u001b[39m\u001b[38;5;124m\"\u001b[39m], loc\u001b[38;5;241m=\u001b[39m\u001b[38;5;124m\"\u001b[39m\u001b[38;5;124mupper left\u001b[39m\u001b[38;5;124m\"\u001b[39m, frameon\u001b[38;5;241m=\u001b[39m\u001b[38;5;28;01mFalse\u001b[39;00m, handlelength\u001b[38;5;241m=\u001b[39m\u001b[38;5;241m0\u001b[39m, bbox_to_anchor\u001b[38;5;241m=\u001b[39m(\u001b[38;5;241m0\u001b[39m, \u001b[38;5;241m1.5\u001b[39m))\n",
      "File \u001b[0;32m~/Documents/code/viral/.venv/lib/python3.12/site-packages/matplotlib/__init__.py:1521\u001b[0m, in \u001b[0;36m_preprocess_data.<locals>.inner\u001b[0;34m(ax, data, *args, **kwargs)\u001b[0m\n\u001b[1;32m   1518\u001b[0m \u001b[38;5;129m@functools\u001b[39m\u001b[38;5;241m.\u001b[39mwraps(func)\n\u001b[1;32m   1519\u001b[0m \u001b[38;5;28;01mdef\u001b[39;00m\u001b[38;5;250m \u001b[39m\u001b[38;5;21minner\u001b[39m(ax, \u001b[38;5;241m*\u001b[39margs, data\u001b[38;5;241m=\u001b[39m\u001b[38;5;28;01mNone\u001b[39;00m, \u001b[38;5;241m*\u001b[39m\u001b[38;5;241m*\u001b[39mkwargs):\n\u001b[1;32m   1520\u001b[0m     \u001b[38;5;28;01mif\u001b[39;00m data \u001b[38;5;129;01mis\u001b[39;00m \u001b[38;5;28;01mNone\u001b[39;00m:\n\u001b[0;32m-> 1521\u001b[0m         \u001b[38;5;28;01mreturn\u001b[39;00m \u001b[43mfunc\u001b[49m\u001b[43m(\u001b[49m\n\u001b[1;32m   1522\u001b[0m \u001b[43m            \u001b[49m\u001b[43max\u001b[49m\u001b[43m,\u001b[49m\n\u001b[1;32m   1523\u001b[0m \u001b[43m            \u001b[49m\u001b[38;5;241;43m*\u001b[39;49m\u001b[38;5;28;43mmap\u001b[39;49m\u001b[43m(\u001b[49m\u001b[43mcbook\u001b[49m\u001b[38;5;241;43m.\u001b[39;49m\u001b[43msanitize_sequence\u001b[49m\u001b[43m,\u001b[49m\u001b[43m \u001b[49m\u001b[43margs\u001b[49m\u001b[43m)\u001b[49m\u001b[43m,\u001b[49m\n\u001b[1;32m   1524\u001b[0m \u001b[43m            \u001b[49m\u001b[38;5;241;43m*\u001b[39;49m\u001b[38;5;241;43m*\u001b[39;49m\u001b[43m{\u001b[49m\u001b[43mk\u001b[49m\u001b[43m:\u001b[49m\u001b[43m \u001b[49m\u001b[43mcbook\u001b[49m\u001b[38;5;241;43m.\u001b[39;49m\u001b[43msanitize_sequence\u001b[49m\u001b[43m(\u001b[49m\u001b[43mv\u001b[49m\u001b[43m)\u001b[49m\u001b[43m \u001b[49m\u001b[38;5;28;43;01mfor\u001b[39;49;00m\u001b[43m \u001b[49m\u001b[43mk\u001b[49m\u001b[43m,\u001b[49m\u001b[43m \u001b[49m\u001b[43mv\u001b[49m\u001b[43m \u001b[49m\u001b[38;5;129;43;01min\u001b[39;49;00m\u001b[43m \u001b[49m\u001b[43mkwargs\u001b[49m\u001b[38;5;241;43m.\u001b[39;49m\u001b[43mitems\u001b[49m\u001b[43m(\u001b[49m\u001b[43m)\u001b[49m\u001b[43m}\u001b[49m\u001b[43m)\u001b[49m\n\u001b[1;32m   1526\u001b[0m     bound \u001b[38;5;241m=\u001b[39m new_sig\u001b[38;5;241m.\u001b[39mbind(ax, \u001b[38;5;241m*\u001b[39margs, \u001b[38;5;241m*\u001b[39m\u001b[38;5;241m*\u001b[39mkwargs)\n\u001b[1;32m   1527\u001b[0m     auto_label \u001b[38;5;241m=\u001b[39m (bound\u001b[38;5;241m.\u001b[39marguments\u001b[38;5;241m.\u001b[39mget(label_namer)\n\u001b[1;32m   1528\u001b[0m                   \u001b[38;5;129;01mor\u001b[39;00m bound\u001b[38;5;241m.\u001b[39mkwargs\u001b[38;5;241m.\u001b[39mget(label_namer))\n",
      "File \u001b[0;32m~/Documents/code/viral/.venv/lib/python3.12/site-packages/matplotlib/axes/_axes.py:5685\u001b[0m, in \u001b[0;36mAxes.fill_between\u001b[0;34m(self, x, y1, y2, where, interpolate, step, **kwargs)\u001b[0m\n\u001b[1;32m   5683\u001b[0m \u001b[38;5;28;01mdef\u001b[39;00m\u001b[38;5;250m \u001b[39m\u001b[38;5;21mfill_between\u001b[39m(\u001b[38;5;28mself\u001b[39m, x, y1, y2\u001b[38;5;241m=\u001b[39m\u001b[38;5;241m0\u001b[39m, where\u001b[38;5;241m=\u001b[39m\u001b[38;5;28;01mNone\u001b[39;00m, interpolate\u001b[38;5;241m=\u001b[39m\u001b[38;5;28;01mFalse\u001b[39;00m,\n\u001b[1;32m   5684\u001b[0m                  step\u001b[38;5;241m=\u001b[39m\u001b[38;5;28;01mNone\u001b[39;00m, \u001b[38;5;241m*\u001b[39m\u001b[38;5;241m*\u001b[39mkwargs):\n\u001b[0;32m-> 5685\u001b[0m     \u001b[38;5;28;01mreturn\u001b[39;00m \u001b[38;5;28;43mself\u001b[39;49m\u001b[38;5;241;43m.\u001b[39;49m\u001b[43m_fill_between_x_or_y\u001b[49m\u001b[43m(\u001b[49m\n\u001b[1;32m   5686\u001b[0m \u001b[43m        \u001b[49m\u001b[38;5;124;43m\"\u001b[39;49m\u001b[38;5;124;43mx\u001b[39;49m\u001b[38;5;124;43m\"\u001b[39;49m\u001b[43m,\u001b[49m\u001b[43m \u001b[49m\u001b[43mx\u001b[49m\u001b[43m,\u001b[49m\u001b[43m \u001b[49m\u001b[43my1\u001b[49m\u001b[43m,\u001b[49m\u001b[43m \u001b[49m\u001b[43my2\u001b[49m\u001b[43m,\u001b[49m\n\u001b[1;32m   5687\u001b[0m \u001b[43m        \u001b[49m\u001b[43mwhere\u001b[49m\u001b[38;5;241;43m=\u001b[39;49m\u001b[43mwhere\u001b[49m\u001b[43m,\u001b[49m\u001b[43m \u001b[49m\u001b[43minterpolate\u001b[49m\u001b[38;5;241;43m=\u001b[39;49m\u001b[43minterpolate\u001b[49m\u001b[43m,\u001b[49m\u001b[43m \u001b[49m\u001b[43mstep\u001b[49m\u001b[38;5;241;43m=\u001b[39;49m\u001b[43mstep\u001b[49m\u001b[43m,\u001b[49m\u001b[43m \u001b[49m\u001b[38;5;241;43m*\u001b[39;49m\u001b[38;5;241;43m*\u001b[39;49m\u001b[43mkwargs\u001b[49m\u001b[43m)\u001b[49m\n",
      "File \u001b[0;32m~/Documents/code/viral/.venv/lib/python3.12/site-packages/matplotlib/axes/_axes.py:5670\u001b[0m, in \u001b[0;36mAxes._fill_between_x_or_y\u001b[0;34m(self, ind_dir, ind, dep1, dep2, where, interpolate, step, **kwargs)\u001b[0m\n\u001b[1;32m   5665\u001b[0m         kwargs[\u001b[38;5;124m\"\u001b[39m\u001b[38;5;124mfacecolor\u001b[39m\u001b[38;5;124m\"\u001b[39m] \u001b[38;5;241m=\u001b[39m \u001b[38;5;28mself\u001b[39m\u001b[38;5;241m.\u001b[39m_get_patches_for_fill\u001b[38;5;241m.\u001b[39mget_next_color()\n\u001b[1;32m   5667\u001b[0m ind, dep1, dep2 \u001b[38;5;241m=\u001b[39m \u001b[38;5;28mself\u001b[39m\u001b[38;5;241m.\u001b[39m_fill_between_process_units(\n\u001b[1;32m   5668\u001b[0m     ind_dir, dep_dir, ind, dep1, dep2, \u001b[38;5;241m*\u001b[39m\u001b[38;5;241m*\u001b[39mkwargs)\n\u001b[0;32m-> 5670\u001b[0m collection \u001b[38;5;241m=\u001b[39m \u001b[43mmcoll\u001b[49m\u001b[38;5;241;43m.\u001b[39;49m\u001b[43mFillBetweenPolyCollection\u001b[49m\u001b[43m(\u001b[49m\n\u001b[1;32m   5671\u001b[0m \u001b[43m    \u001b[49m\u001b[43mind_dir\u001b[49m\u001b[43m,\u001b[49m\u001b[43m \u001b[49m\u001b[43mind\u001b[49m\u001b[43m,\u001b[49m\u001b[43m \u001b[49m\u001b[43mdep1\u001b[49m\u001b[43m,\u001b[49m\u001b[43m \u001b[49m\u001b[43mdep2\u001b[49m\u001b[43m,\u001b[49m\n\u001b[1;32m   5672\u001b[0m \u001b[43m    \u001b[49m\u001b[43mwhere\u001b[49m\u001b[38;5;241;43m=\u001b[39;49m\u001b[43mwhere\u001b[49m\u001b[43m,\u001b[49m\u001b[43m \u001b[49m\u001b[43minterpolate\u001b[49m\u001b[38;5;241;43m=\u001b[39;49m\u001b[43minterpolate\u001b[49m\u001b[43m,\u001b[49m\u001b[43m \u001b[49m\u001b[43mstep\u001b[49m\u001b[38;5;241;43m=\u001b[39;49m\u001b[43mstep\u001b[49m\u001b[43m,\u001b[49m\u001b[43m \u001b[49m\u001b[38;5;241;43m*\u001b[39;49m\u001b[38;5;241;43m*\u001b[39;49m\u001b[43mkwargs\u001b[49m\u001b[43m)\u001b[49m\n\u001b[1;32m   5674\u001b[0m \u001b[38;5;28mself\u001b[39m\u001b[38;5;241m.\u001b[39madd_collection(collection)\n\u001b[1;32m   5675\u001b[0m \u001b[38;5;28mself\u001b[39m\u001b[38;5;241m.\u001b[39m_request_autoscale_view()\n",
      "File \u001b[0;32m~/Documents/code/viral/.venv/lib/python3.12/site-packages/matplotlib/collections.py:1340\u001b[0m, in \u001b[0;36mFillBetweenPolyCollection.__init__\u001b[0;34m(self, t_direction, t, f1, f2, where, interpolate, step, **kwargs)\u001b[0m\n\u001b[1;32m   1338\u001b[0m \u001b[38;5;28mself\u001b[39m\u001b[38;5;241m.\u001b[39m_interpolate \u001b[38;5;241m=\u001b[39m interpolate\n\u001b[1;32m   1339\u001b[0m \u001b[38;5;28mself\u001b[39m\u001b[38;5;241m.\u001b[39m_step \u001b[38;5;241m=\u001b[39m step\n\u001b[0;32m-> 1340\u001b[0m verts \u001b[38;5;241m=\u001b[39m \u001b[38;5;28;43mself\u001b[39;49m\u001b[38;5;241;43m.\u001b[39;49m\u001b[43m_make_verts\u001b[49m\u001b[43m(\u001b[49m\u001b[43mt\u001b[49m\u001b[43m,\u001b[49m\u001b[43m \u001b[49m\u001b[43mf1\u001b[49m\u001b[43m,\u001b[49m\u001b[43m \u001b[49m\u001b[43mf2\u001b[49m\u001b[43m,\u001b[49m\u001b[43m \u001b[49m\u001b[43mwhere\u001b[49m\u001b[43m)\u001b[49m\n\u001b[1;32m   1341\u001b[0m \u001b[38;5;28msuper\u001b[39m()\u001b[38;5;241m.\u001b[39m\u001b[38;5;21m__init__\u001b[39m(verts, \u001b[38;5;241m*\u001b[39m\u001b[38;5;241m*\u001b[39mkwargs)\n",
      "File \u001b[0;32m~/Documents/code/viral/.venv/lib/python3.12/site-packages/matplotlib/collections.py:1406\u001b[0m, in \u001b[0;36mFillBetweenPolyCollection._make_verts\u001b[0;34m(self, t, f1, f2, where)\u001b[0m\n\u001b[1;32m   1401\u001b[0m \u001b[38;5;250m\u001b[39m\u001b[38;5;124;03m\"\"\"\u001b[39;00m\n\u001b[1;32m   1402\u001b[0m \u001b[38;5;124;03mMake verts that can be forwarded to `.PolyCollection`.\u001b[39;00m\n\u001b[1;32m   1403\u001b[0m \u001b[38;5;124;03m\"\"\"\u001b[39;00m\n\u001b[1;32m   1404\u001b[0m \u001b[38;5;28mself\u001b[39m\u001b[38;5;241m.\u001b[39m_validate_shapes(\u001b[38;5;28mself\u001b[39m\u001b[38;5;241m.\u001b[39mt_direction, \u001b[38;5;28mself\u001b[39m\u001b[38;5;241m.\u001b[39m_f_direction, t, f1, f2)\n\u001b[0;32m-> 1406\u001b[0m where \u001b[38;5;241m=\u001b[39m \u001b[38;5;28;43mself\u001b[39;49m\u001b[38;5;241;43m.\u001b[39;49m\u001b[43m_get_data_mask\u001b[49m\u001b[43m(\u001b[49m\u001b[43mt\u001b[49m\u001b[43m,\u001b[49m\u001b[43m \u001b[49m\u001b[43mf1\u001b[49m\u001b[43m,\u001b[49m\u001b[43m \u001b[49m\u001b[43mf2\u001b[49m\u001b[43m,\u001b[49m\u001b[43m \u001b[49m\u001b[43mwhere\u001b[49m\u001b[43m)\u001b[49m\n\u001b[1;32m   1407\u001b[0m t, f1, f2 \u001b[38;5;241m=\u001b[39m np\u001b[38;5;241m.\u001b[39mbroadcast_arrays(np\u001b[38;5;241m.\u001b[39matleast_1d(t), f1, f2, subok\u001b[38;5;241m=\u001b[39m\u001b[38;5;28;01mTrue\u001b[39;00m)\n\u001b[1;32m   1409\u001b[0m \u001b[38;5;28mself\u001b[39m\u001b[38;5;241m.\u001b[39m_bbox \u001b[38;5;241m=\u001b[39m transforms\u001b[38;5;241m.\u001b[39mBbox\u001b[38;5;241m.\u001b[39mnull()\n",
      "File \u001b[0;32m~/Documents/code/viral/.venv/lib/python3.12/site-packages/matplotlib/collections.py:1433\u001b[0m, in \u001b[0;36mFillBetweenPolyCollection._get_data_mask\u001b[0;34m(self, t, f1, f2, where)\u001b[0m\n\u001b[1;32m   1430\u001b[0m         msg \u001b[38;5;241m=\u001b[39m \u001b[38;5;124m\"\u001b[39m\u001b[38;5;124mwhere size (\u001b[39m\u001b[38;5;132;01m{}\u001b[39;00m\u001b[38;5;124m) does not match \u001b[39m\u001b[38;5;132;01m{!r}\u001b[39;00m\u001b[38;5;124m size (\u001b[39m\u001b[38;5;132;01m{}\u001b[39;00m\u001b[38;5;124m)\u001b[39m\u001b[38;5;124m\"\u001b[39m\u001b[38;5;241m.\u001b[39mformat(\n\u001b[1;32m   1431\u001b[0m             where\u001b[38;5;241m.\u001b[39msize, \u001b[38;5;28mself\u001b[39m\u001b[38;5;241m.\u001b[39mt_direction, t\u001b[38;5;241m.\u001b[39msize)\n\u001b[1;32m   1432\u001b[0m         \u001b[38;5;28;01mraise\u001b[39;00m \u001b[38;5;167;01mValueError\u001b[39;00m(msg)\n\u001b[0;32m-> 1433\u001b[0m \u001b[38;5;28;01mreturn\u001b[39;00m where \u001b[38;5;241m&\u001b[39m \u001b[38;5;241m~\u001b[39m\u001b[43mfunctools\u001b[49m\u001b[38;5;241;43m.\u001b[39;49m\u001b[43mreduce\u001b[49m\u001b[43m(\u001b[49m\n\u001b[1;32m   1434\u001b[0m \u001b[43m    \u001b[49m\u001b[43mnp\u001b[49m\u001b[38;5;241;43m.\u001b[39;49m\u001b[43mlogical_or\u001b[49m\u001b[43m,\u001b[49m\u001b[43m \u001b[49m\u001b[38;5;28;43mmap\u001b[39;49m\u001b[43m(\u001b[49m\u001b[43mnp\u001b[49m\u001b[38;5;241;43m.\u001b[39;49m\u001b[43mma\u001b[49m\u001b[38;5;241;43m.\u001b[39;49m\u001b[43mgetmaskarray\u001b[49m\u001b[43m,\u001b[49m\u001b[43m \u001b[49m\u001b[43m[\u001b[49m\u001b[43mt\u001b[49m\u001b[43m,\u001b[49m\u001b[43m \u001b[49m\u001b[43mf1\u001b[49m\u001b[43m,\u001b[49m\u001b[43m \u001b[49m\u001b[43mf2\u001b[49m\u001b[43m]\u001b[49m\u001b[43m)\u001b[49m\u001b[43m)\u001b[49m\n",
      "\u001b[0;31mValueError\u001b[0m: operands could not be broadcast together with shapes (0,) (58433,) "
     ]
    },
    {
     "name": "stderr",
     "output_type": "stream",
     "text": [
      "2025-02-28 11:04:16.449 python[96203:3472469] +[IMKClient subclass]: chose IMKClient_Modern\n",
      "2025-02-28 11:04:16.449 python[96203:3472469] +[IMKInputSession subclass]: chose IMKInputSession_Modern\n"
     ]
    }
   ],
   "source": [
    "n_trials_plot = 25\n",
    "plot_start = int(corridor_starts[-n_trials_plot, 0])\n",
    "to_plot = X_zs[:, plot_start:]\n",
    "nTimepoints = to_plot.shape[1]\n",
    "xticks = np.arange(0, nTimepoints, sampling_rate * 60) # every minute\n",
    "xticks_labels = np.arange(0, len(xticks), 1)\n",
    "\n",
    "lick_idx_plot = lick_idx[lick_idx > plot_start] - plot_start\n",
    "reward_idx_plot = reward_idx[reward_idx > plot_start] - plot_start\n",
    "\n",
    "n_features = 4\n",
    "\n",
    "# Scaling of the rasterplot\n",
    "vmin = 0.75\n",
    "vmax = 2\n",
    "\n",
    "plt.rcParams[\"font.family\"] = \"Arial\"\n",
    "plt.rcParams[\"font.size\"] = 14\n",
    "\n",
    "\n",
    "fig, ax = plt.subplots(nrows=n_features, ncols=1, figsize=(24, 10), gridspec_kw={\"height_ratios\": [25, 1, 1, 4]}, sharex=True)\n",
    "\n",
    "# NEURONS RASTERPLOT\n",
    "ax1 = ax[0]\n",
    "ax1.imshow(to_plot, vmin=vmin, vmax=vmax, cmap=\"gray_r\", aspect=\"auto\")\n",
    "ax1.set_xticks(xticks)\n",
    "ax1.set_xticklabels(xticks_labels)\n",
    "ax1.set_xlabel(\"Time (minutes)\")\n",
    "ax1.set_ylabel(\"Neurons\")\n",
    "\n",
    "# TODO: y-axis is weird\n",
    "\n",
    "for (start, reward_condition), width in zip(corridor_starts[-n_trials_plot:, :], corridor_widths[-n_trials_plot:]):\n",
    "    ax1.fill_betweenx(\n",
    "        y=[0, to_plot.shape[0]],\n",
    "        x1=start - plot_start,\n",
    "        x2=start + width - plot_start,  \n",
    "        color=\"forestgreen\" if reward_condition == 1 else \"violet\",\n",
    "        alpha=0.3\n",
    "    )\n",
    "\n",
    "\n",
    "# REWARDS\n",
    "ax2 = ax[1]\n",
    "ax2.scatter(\n",
    "    reward_idx_plot,  # Align with the time window\n",
    "    np.ones(len(reward_idx_plot)), \n",
    "    color=\"g\",\n",
    "    marker=\"^\", \n",
    "    s=30\n",
    ")\n",
    "ax2.axis(\"off\")\n",
    "ax2.legend([\"Reward\"], loc=\"center left\", frameon=False, handletextpad=0.2)\n",
    "\n",
    "# LICKING\n",
    "ax3 = ax[2]\n",
    "ax3.scatter(\n",
    "    lick_idx_plot,  # Align with the time window\n",
    "    np.ones(len(lick_idx_plot)), \n",
    "    color=[1.0,0.3,0.3],\n",
    "    marker=\".\", \n",
    "    s=30\n",
    ")\n",
    "ax3.axis(\"off\")\n",
    "ax3.legend([\"Licks\"], loc=\"center left\", frameon=False, handletextpad=0.2)\n",
    "\n",
    "\n",
    "# RUNNING SPEED\n",
    "ax4 = ax[3]\n",
    "ax4.fill_between(np.arange(nTimepoints), run[plot_start:], color=kp_colors[0]) #alpha=0.5)\n",
    "ax4.axis(\"off\")\n",
    "ax4.legend([matplotlib.lines.Line2D([0], [0], color=\"none\")], [\"Running speed\"], loc=\"upper left\", frameon=False, handlelength=0, bbox_to_anchor=(0, 1.5))\n",
    "\n",
    "\n",
    "\n",
    "ax1.set_xlim([0, nTimepoints])\n",
    "ax2.set_xlim([0, nTimepoints])\n",
    "ax3.set_xlim([0, nTimepoints])\n",
    "ax4.set_xlim([0, nTimepoints])\n",
    "\n",
    "plt.show()"
   ]
  },
  {
   "cell_type": "code",
   "execution_count": null,
   "metadata": {},
   "outputs": [
    {
     "name": "stdout",
     "output_type": "stream",
     "text": [
      "89186\n",
      "89186\n"
     ]
    }
   ],
   "source": [
    "print(len(to_plot[1]))\n",
    "print(len(run[plot_start:]))"
   ]
  },
  {
   "cell_type": "code",
   "execution_count": null,
   "metadata": {},
   "outputs": [
    {
     "name": "stdout",
     "output_type": "stream",
     "text": [
      "Reward indices: [  643   644   645   646   647   648   649   650   651  1786  1787  1788\n",
      "  1789  1790  1791  1792  1793  1794  8272  8273  8274  8275  8276  8277\n",
      "  8278  8279  8280  9487  9488  9489  9490  9491  9492  9493  9494  9495\n",
      " 10873 10874 10875 10876 10877 10878 10879 10880 10881 15012 15013 15014\n",
      " 15015 15016 15017 15018 15019 25530 25531 25532 25533 25534 25535 25536\n",
      " 25537 25538 26687 26688 26689 26690 26691 26692 26693 26694 28032 28033\n",
      " 28034 28035 28036 28037 28038 28039 28040 30410 30411 30412 30413 30414\n",
      " 30415 30416 30417 30418 34594 34595 34596 34597 34598 34599 34600 34601\n",
      " 34602 36415 36416 36417 36418 36419 36420 36421 36422 36423 47764 47765\n",
      " 47766 47767 47768 47769 47770 47771 47772 51381 51382 51383 51384 51385\n",
      " 51386 51387 51388 51389 57272 57273 57274 57275 57276 57277 57278 57279\n",
      " 57280 58616 58617 58618 58619 58620 58621 58622 58623 58624 60843 60844\n",
      " 60845 60846 60847 60848 60849 60850 60851 72385 72386 72387 72388 72389\n",
      " 72390 72391 72392 72393 82475 82476 82477 82478 82479 82480 82481 82482\n",
      " 82483]\n",
      "Lick indices: [   38    39    40 ... 82591 82592 82593]\n"
     ]
    }
   ],
   "source": [
    "print(\"Reward indices:\", reward_idx_plot)\n",
    "print(\"Lick indices:\", lick_idx_plot)"
   ]
  },
  {
   "cell_type": "code",
   "execution_count": null,
   "metadata": {},
   "outputs": [],
   "source": [
    "# TODO: Add corridor stuff\n",
    "# TODO: Add licks, rewards, running speed"
   ]
  }
 ],
 "metadata": {
  "kernelspec": {
   "display_name": ".venv",
   "language": "python",
   "name": "python3"
  },
  "language_info": {
   "codemirror_mode": {
    "name": "ipython",
    "version": 3
   },
   "file_extension": ".py",
   "mimetype": "text/x-python",
   "name": "python",
   "nbconvert_exporter": "python",
   "pygments_lexer": "ipython3",
   "version": "3.12.2"
  }
 },
 "nbformat": 4,
 "nbformat_minor": 2
}
