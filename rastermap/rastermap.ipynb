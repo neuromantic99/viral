{
 "cells": [
  {
   "cell_type": "code",
   "execution_count": null,
   "metadata": {},
   "outputs": [
    {
     "name": "stdout",
     "output_type": "stream",
     "text": [
      "2025-02-25 15:52:03,885 [INFO] normalizing data across axis=1\n",
      "2025-02-25 15:52:04,104 [INFO] projecting out mean along axis=0\n",
      "2025-02-25 15:52:04,334 [INFO] data normalized, 0.45sec\n",
      "2025-02-25 15:52:04,335 [INFO] sorting activity: 642 valid samples by 89186 timepoints\n",
      "2025-02-25 15:52:06,204 [INFO] n_PCs = 200 computed, 2.32sec\n",
      "2025-02-25 15:52:06,369 [INFO] 97 clusters computed, time 2.48sec\n"
     ]
    },
    {
     "name": "stderr",
     "output_type": "stream",
     "text": [
      "/Users/josefbitzenhofer/Documents/code/viral/.venv/lib/python3.12/site-packages/rastermap/cluster.py:138: UserWarning: found fewer than half the n_clusters that the user specified, rerunning with random initialization\n",
      "  warnings.warn(\n",
      "/Users/josefbitzenhofer/Documents/code/viral/.venv/lib/python3.12/site-packages/rastermap/cluster.py:148: UserWarning: found fewer clusters than user specified, try reducing n_clusters and/or reduce n_splits and/or increase n_PCs\n",
      "  warnings.warn(\n"
     ]
    },
    {
     "name": "stdout",
     "output_type": "stream",
     "text": [
      "2025-02-25 15:52:32,127 [INFO] clusters sorted, time 28.24sec\n",
      "2025-02-25 15:52:32,189 [INFO] clusters upsampled, time 28.30sec\n",
      "2025-02-25 15:52:33,042 [INFO] rastermap complete, time 29.16sec\n"
     ]
    }
   ],
   "source": [
    "%matplotlib qt\n",
    "\n",
    "\n",
    "import sys\n",
    "import numpy as np\n",
    "import matplotlib.pyplot as plt\n",
    "from rastermap import Rastermap\n",
    "\n",
    "# spks is neurons by time\n",
    "# sys.path.insert(0, '/Users/josefbitzenhofer/Documents/code/viral/data/cached_for_rastermap')\n",
    "spks = np.load('/Users/josefbitzenhofer/Documents/code/viral/data/cached_for_rastermap/JB027_2025-02-24_corridor_neur.npz')[\"spks\"]\n",
    "behaviour = np.load('/Users/josefbitzenhofer/Documents/code/viral/data/cached_for_rastermap/JB027_2025-02-24_corridor_behavior.npz')\n",
    "\n",
    "# fit rastermap\n",
    "# n_PCs = 200\n",
    "# n_clusters = 100\n",
    "# locality = 0.75\n",
    "# time_lag_windows = 5\n",
    "model = Rastermap(n_PCs=200, n_clusters=100, \n",
    "                  locality=1, time_lag_window=5).fit(spks)\n",
    "y = model.embedding # neurons x 1\n",
    "isort = model.isort\n",
    "\n",
    "# visualize binning over neurons\n",
    "X_embedding = model.X_embedding\n"
   ]
  },
  {
   "cell_type": "code",
   "execution_count": 9,
   "metadata": {},
   "outputs": [],
   "source": [
    "corridor_starts = behaviour[\"corridor_starts\"]\n",
    "corridor_widths = behaviour[\"corridor_widths\"]\n",
    "# corridor_imgs = behaviour[\"corridor_imgs\"]\n",
    "VRpos = behaviour[\"VRpos\"]\n",
    "reward_idx = behaviour[\"reward_inds\"]\n",
    "sound_idx = behaviour[\"sound_inds\"]\n",
    "lick_idx = behaviour[\"lick_inds\"]\n",
    "run = behaviour[\"run\"]"
   ]
  },
  {
   "cell_type": "code",
   "execution_count": 10,
   "metadata": {},
   "outputs": [],
   "source": [
    "sampling_rate = 30 # fps"
   ]
  },
  {
   "cell_type": "code",
   "execution_count": 11,
   "metadata": {},
   "outputs": [],
   "source": [
    "n_trials_plot = 5\n",
    "plot_start = int(corridor_starts[-n_trials_plot, 0])\n",
    "to_plot = X_embedding[:, plot_start:]\n",
    "nTimepoints = to_plot.shape[1]\n",
    "xticks = np.arange(0, nTimepoints, sampling_rate * 60) # every minute\n",
    "xticks_labels = np.arange(0, len(xticks), 1)\n",
    "\n",
    "lick_idx_plot = lick_idx[lick_idx > plot_start] - plot_start\n",
    "reward_idx_plot = reward_idx[reward_idx > plot_start] - plot_start\n",
    "\n",
    "n_features = 4\n",
    "\n",
    "fig, ax = plt.subplots(nrows=n_features, ncols=1, figsize=(24, 10), gridspec_kw={\"height_ratios\": [20, 1, 1, 2]}, sharex=True)\n",
    "\n",
    "# NEURONS RASTERPLOT\n",
    "ax1 = ax[0]\n",
    "ax1.imshow(to_plot, vmin=0, vmax=1.5, cmap=\"gray_r\", aspect=\"auto\")\n",
    "ax1.set_xticks(xticks)\n",
    "ax1.set_xticklabels(xticks_labels)\n",
    "ax1.set_xlabel(\"Time (minutes)\")\n",
    "ax1.set_ylabel(\"Neurons\")\n",
    "\n",
    "for (start, reward_condition), width in zip(corridor_starts[-n_trials_plot:, :], corridor_widths[-n_trials_plot:]):\n",
    "    ax1.fill_betweenx(\n",
    "        y=[0, to_plot.shape[0]],\n",
    "        x1=start - plot_start,\n",
    "        x2=start + width - plot_start,  \n",
    "        color=\"limegreen\" if reward_condition == 1 else \"cornflowerblue\",\n",
    "        alpha=0.4\n",
    "    )\n",
    "\n",
    "\n",
    "# REWARDS\n",
    "ax2 = ax[1]\n",
    "ax2.scatter(\n",
    "    reward_idx_plot,  # Align with the time window\n",
    "    np.ones(len(reward_idx_plot)), \n",
    "    color=\"blue\",\n",
    "    marker=\"^\", \n",
    "    s=30\n",
    ")\n",
    "ax2.axis(\"off\")\n",
    "\n",
    "# LICKING\n",
    "ax3 = ax[2]\n",
    "ax3.scatter(\n",
    "    lick_idx_plot,  # Align with the time window\n",
    "    np.ones(len(lick_idx_plot)), \n",
    "    color=\"red\",\n",
    "    marker=\".\", \n",
    "    s=30\n",
    ")\n",
    "ax3.axis(\"off\")\n",
    "\n",
    "\n",
    "# RUNNING SPEED\n",
    "ax4 = ax[3]\n",
    "ax4.fill_between(np.arange(nTimepoints), run[plot_start:], color=\"gray\") #alpha=0.5)\n",
    "ax4.axis(\"off\")\n",
    "\n",
    "\n",
    "\n",
    "\n",
    "ax1.set_xlim([0, nTimepoints])\n",
    "ax2.set_xlim([0, nTimepoints])\n",
    "ax3.set_xlim([0, nTimepoints])\n",
    "ax4.set_xlim([0, nTimepoints])\n",
    "\n",
    "plt.show()"
   ]
  },
  {
   "cell_type": "code",
   "execution_count": 12,
   "metadata": {},
   "outputs": [
    {
     "name": "stdout",
     "output_type": "stream",
     "text": [
      "19596\n",
      "19596\n"
     ]
    }
   ],
   "source": [
    "print(len(to_plot[1]))\n",
    "print(len(run[plot_start:]))"
   ]
  },
  {
   "cell_type": "code",
   "execution_count": 13,
   "metadata": {},
   "outputs": [
    {
     "name": "stdout",
     "output_type": "stream",
     "text": [
      "Reward indices: [ 2795  2796  2797  2798  2799  2800  2801  2802  2803 12885 12886 12887\n",
      " 12888 12889 12890 12891 12892 12893]\n",
      "Lick indices: [ 2578  2579  2580  2581  2582  2583  2584  2585  2586  2587  2588  2589\n",
      "  2590  2591  2592  2593  2594  2595  2596  2597  2598  2599  2600  2601\n",
      "  2602  2603  2604  2605  2606  2607  2626  2627  2628  2629  2630  2631\n",
      "  2632  2633  2634  2635  2636  2685  2686  2687  2688  2689  2690  2691\n",
      "  2692  2693  2694  2695  2696  2697  2698  2699  2700  2701  2702  2703\n",
      "  2704  2705  2725  2726  2727  2728  2729  2730  2731  2732  2733  2734\n",
      "  2792  2793  2794  2795  2796  2797  2798  2799  2800  2801  2802  2803\n",
      "  2804  2805  2806  2807  2808  2809  2810  2811  2812  2813  2814  2815\n",
      "  2816  2817  2818  2819  2820  2821  2822  2823  2824  2825  2826  2827\n",
      "  2828  2829  2830  2831  2832  2833  2834  2835  2836  2837  2838  2839\n",
      "  2840  2841  2842  2843  2844  2845  2846  2847  2848  2849  2850  2851\n",
      "  2852  2853  2854  2855  2856  2857  2858  2859  2860  2861  2862  2863\n",
      "  2864  2865  2866  2867  2868  2869  2870  2871  2872  2873  2874  2875\n",
      "  2876  2877  2878  2879  2880  2881  2882  2883  2884  2885  2886  2887\n",
      "  2888  2889 12833 12834 12835 12836 12837 12838 12839 12840 12841 12842\n",
      " 12858 12859 12860 12861 12862 12863 12864 12865 12866 12867 12892 12893\n",
      " 12894 12895 12896 12897 12898 12899 12900 12901 12902 12903 12904 12905\n",
      " 12906 12907 12908 12909 12910 12911 12912 12913 12914 12915 12916 12917\n",
      " 12918 12919 12920 12921 12922 12923 12924 12925 12926 12927 12928 12929\n",
      " 12930 12931 12932 12933 12934 12935 12936 12937 12938 12939 12940 12941\n",
      " 12942 12943 12944 12945 12946 12947 12948 12949 12950 12951 12952 12953\n",
      " 12954 12955 12956 12957 12958 12959 12960 12961 12962 12963 12964 12965\n",
      " 12966 12967 12968 12969 12970 12971 12972 12973 12974 12975 12976 12977\n",
      " 12978 12979 12980 12981 12982 12983 12984 12985 12986 12987 12988 12989\n",
      " 12990 12991 12992 12993 12994 12995 12996 12997 12998 12999 13000 13001\n",
      " 13002 13003]\n"
     ]
    }
   ],
   "source": [
    "print(\"Reward indices:\", reward_idx_plot)\n",
    "print(\"Lick indices:\", lick_idx_plot)"
   ]
  },
  {
   "cell_type": "code",
   "execution_count": null,
   "metadata": {},
   "outputs": [
    {
     "ename": "",
     "evalue": "",
     "output_type": "error",
     "traceback": [
      "\u001b[1;31mThe Kernel crashed while executing code in the current cell or a previous cell. \n",
      "\u001b[1;31mPlease review the code in the cell(s) to identify a possible cause of the failure. \n",
      "\u001b[1;31mClick <a href='https://aka.ms/vscodeJupyterKernelCrash'>here</a> for more info. \n",
      "\u001b[1;31mView Jupyter <a href='command:jupyter.viewOutput'>log</a> for further details."
     ]
    }
   ],
   "source": [
    "# TODO: Add corridor stuff\n",
    "# TODO: Add licks, rewards, running speed"
   ]
  }
 ],
 "metadata": {
  "kernelspec": {
   "display_name": ".venv",
   "language": "python",
   "name": "python3"
  },
  "language_info": {
   "codemirror_mode": {
    "name": "ipython",
    "version": 3
   },
   "file_extension": ".py",
   "mimetype": "text/x-python",
   "name": "python",
   "nbconvert_exporter": "python",
   "pygments_lexer": "ipython3",
   "version": "3.12.2"
  }
 },
 "nbformat": 4,
 "nbformat_minor": 2
}
